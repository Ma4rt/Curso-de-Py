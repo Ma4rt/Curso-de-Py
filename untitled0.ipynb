{
  "nbformat": 4,
  "nbformat_minor": 0,
  "metadata": {
    "colab": {
      "provenance": [],
      "authorship_tag": "ABX9TyOwGvOgFaE1TDngEeKDFl2g",
      "include_colab_link": true
    },
    "kernelspec": {
      "name": "python3",
      "display_name": "Python 3"
    },
    "language_info": {
      "name": "python"
    }
  },
  "cells": [
    {
      "cell_type": "markdown",
      "metadata": {
        "id": "view-in-github",
        "colab_type": "text"
      },
      "source": [
        "<a href=\"https://colab.research.google.com/github/Ma4rt/Curso-de-Py/blob/main/untitled0.ipynb\" target=\"_parent\"><img src=\"https://colab.research.google.com/assets/colab-badge.svg\" alt=\"Open In Colab\"/></a>"
      ]
    },
    {
      "cell_type": "code",
      "source": [
        "#Avaliação de Aprendizagem - 01\n",
        "#Programação em python\n",
        "#Aluno: Rafael Martinelli Araujo Lima\n",
        "#Professor: Saulo Reschke Parizotto\n",
        "#Turma: 3\n",
        "#Cidade: Blumenau-Sc\n",
        "\n",
        "# Solicitar o consumo e o tipo de usuário ao usuário\n",
        "consumo = float(input(\"Entre com o seu consumo em kWh: \"))\n",
        "user = input(\"Digite R-Residência, I-Indústrias, C-Comércios: \")\n",
        "\n",
        "# Definir as tarifas para cada tipo de usuário\n",
        "if user == \"R\":\n",
        "    if consumo <= 500:\n",
        "        valorPagar = consumo * 1.00\n",
        "    else:\n",
        "        valorPagar = consumo * 1.25\n",
        "elif user == \"I\":\n",
        "    if consumo <= 1000:\n",
        "        valorPagar = consumo * 1.15\n",
        "    else:\n",
        "        valorPagar = consumo * 1.35\n",
        "elif user == \"C\":\n",
        "    if consumo <= 5000:\n",
        "        valorPagar = consumo * 1.20\n",
        "    else:\n",
        "        valorPagar = consumo * 1.40\n",
        "else:\n",
        "    valorPagar = 0  # Valor padrão para tipos de usuário inválidos\n",
        "\n",
        "# Verificar se o usuário é válido e calcular o valor a pagar\n",
        "if valorPagar > 0:\n",
        "    print(\"Valor a pagar: R$\", valorPagar)\n",
        "else:\n",
        "    print(\"Tipo de usuário inválido ou consumo fora do intervalo permitido.\")\n",
        "\n",
        "\n"
      ],
      "metadata": {
        "id": "iPqaTSJOGO-G",
        "colab": {
          "base_uri": "https://localhost:8080/"
        },
        "outputId": "ab23b6da-eeb8-404c-c05e-78ce25fde241"
      },
      "execution_count": null,
      "outputs": [
        {
          "output_type": "stream",
          "name": "stdout",
          "text": [
            "Entre com o seu consumo em kWh: 6000\n",
            "Digite R-Residência, I-Indústrias, C-Comércios: C\n",
            "Valor a pagar: R$ 8400.0\n"
          ]
        }
      ]
    },
    {
      "cell_type": "code",
      "source": [
        "#sauloparizotto@gmail.com"
      ],
      "metadata": {
        "id": "yhN9iHPx3JGn"
      },
      "execution_count": null,
      "outputs": []
    },
    {
      "cell_type": "code",
      "source": [
        "# exemplo ia e ml com python\n",
        "#\n",
        "# https://didatica.tech/seu-primeiro-codigo-de-machine-learning-com-python/\n",
        "#\n",
        "\n",
        "#biblioteca de dados\n",
        "import pandas as pd\n",
        "\n",
        "#ler planilha de dados\n",
        "arquivo = pd.read_csv('sample_data/wine_dataset.csv')\n",
        "arquivo.head()\n",
        "\n",
        "arquivo['style'] = arquivo['style'].replace('red', 0)\n",
        "arquivo['style'] = arquivo['style'].replace('white', 1)\n",
        "\n",
        "y = arquivo['style']\n",
        "x = arquivo.drop('style', axis = 1)\n",
        "\n",
        "from sklearn.model_selection import train_test_split\n",
        "\n",
        "#criar modelos de dados de aprendizagem - treino e testes\n",
        "x_treino, x_teste, y_treino, y_teste = train_test_split(x, y, test_size = 0.3)\n",
        "print(arquivo.shape, x_treino.shape, x_teste.shape, y_treino.shape, y_teste.shape)\n",
        "\n",
        "from sklearn.ensemble import ExtraTreesClassifier\n",
        "\n",
        "#aplica um modelo de IA - classificação dos dados - arvores de decisão\n",
        "modelo = ExtraTreesClassifier()\n",
        "\n",
        "#relaciona variaveis e dados\n",
        "modelo.fit(x_treino, y_treino)\n",
        "\n",
        "#aplicamos dados de testes e retorna o nível de precisão (acerto)\n",
        "resultado = modelo.score(x_teste, y_teste)\n",
        "print(\"Acurácia:\", resultado)\n",
        "\n",
        "#gera previsões para cada amostra\n",
        "previsoes = modelo.predict(x_teste[400:405])\n",
        "print(previsoes)"
      ],
      "metadata": {
        "id": "4u3QpKo0X3cl"
      },
      "execution_count": null,
      "outputs": []
    },
    {
      "cell_type": "code",
      "source": [
        "pip install news-please"
      ],
      "metadata": {
        "id": "cTcHuBdBRtpz"
      },
      "execution_count": null,
      "outputs": []
    },
    {
      "cell_type": "code",
      "source": [
        "from newsplease import NewsPlease\n",
        "\n",
        "coleta_site = NewsPlease.from_url('https://csgo.net/')\n",
        "\n",
        "print(\"Titulo\")\n",
        "print(coleta_site.title)\n",
        "print(\"Texto completo\")\n",
        "print(coleta_site.maintext)"
      ],
      "metadata": {
        "id": "ENVkHUsEOrEG",
        "colab": {
          "base_uri": "https://localhost:8080/"
        },
        "outputId": "92c54b19-1ca7-4467-9b35-a330c61927e4"
      },
      "execution_count": null,
      "outputs": [
        {
          "output_type": "stream",
          "name": "stdout",
          "text": [
            "Titulo\n",
            "open the best CS GO cases\n",
            "Texto completo\n",
            "None\n"
          ]
        }
      ]
    },
    {
      "cell_type": "code",
      "source": [
        "class Pets:\n",
        "  dogs = []\n",
        "  def __init__(self, dogs):\n",
        "    self.dogs = dogs\n",
        "class Dog:\n",
        "  species = 'mamifero'\n",
        "  def __init__(self,name ,age):\n",
        "    self.name = name\n",
        "    self.age = age\n",
        "  def description(self):\n",
        "    return self.name, self.age\n",
        "  def speak(self, sound):\n",
        "    return \"%sfala %s\" % (self.name, sound)\n",
        "  def eat(self):\n",
        "    self.is_hungry = False\n",
        "class RussellTerrier(Dog):\n",
        "  def run(sel, speed):\n",
        "    return \"%s rucorrens %s\" % (self.name, speed)\n",
        "class Bulldog(Dog):\n",
        "  def run(self, speed):\n",
        "    return \"%s corre %s\" % (self.name, speed)\n",
        "#Cria uma instância de Dogs\n",
        "my_dogs = [\n",
        "    Bulldog(\"Tom\", 6),\n",
        "    RussellTerrier(\"Fletcher\",7),\n",
        "    Dog(\"Larry\",9)\n",
        "]\n",
        "#inicaliza a Classe Pets\n",
        "my_pets = Pets(my_dogs)\n",
        "#saida\n",
        "print(\"eu tenho {} cachorros.\".format(len(my_pets.dogs)))\n",
        "for dog in my_pets.dogs:\n",
        "  print(\"{} tem {}\".format(dog.name, dog.age))\n",
        "  print(type(dog))\n",
        "print(\"Eles são todos {}.\".format(dog.species))"
      ],
      "metadata": {
        "colab": {
          "base_uri": "https://localhost:8080/"
        },
        "id": "uE_wxth68UCy",
        "outputId": "62d130b7-9838-4d24-e982-d14955435da2"
      },
      "execution_count": null,
      "outputs": [
        {
          "output_type": "stream",
          "name": "stdout",
          "text": [
            "eu tenho 3 cachorros.\n",
            "Tom tem 6\n",
            "<class '__main__.Bulldog'>\n",
            "Fletcher tem 7\n",
            "<class '__main__.RussellTerrier'>\n",
            "Larry tem 9\n",
            "<class '__main__.Dog'>\n",
            "Eles são todos mamifero.\n"
          ]
        }
      ]
    },
    {
      "cell_type": "code",
      "source": [
        "class MinhaClasse:\n",
        "  nome_classe = \"Minha Classe\" #atributos\n",
        "  def __init__(self,a,b): #métodos inicialização (obrigatório)\n",
        "         self.a = a\n",
        "         self.b = b\n",
        "  def soma(self): #método da classe\n",
        "         return self.a + self.b\n",
        "\n",
        "objsoma = MinhaClasse(2,3) #criando um objeto da classe\n",
        "print(objsoma.nome_classe) #buscando um atributo\n",
        "print(objsoma.soma()) #chamando o método de uma classe"
      ],
      "metadata": {
        "colab": {
          "base_uri": "https://localhost:8080/"
        },
        "id": "t5R-_5TCwGZd",
        "outputId": "7413dbc4-7f6a-4fc3-f58f-0b6d0beec6fb"
      },
      "execution_count": null,
      "outputs": [
        {
          "output_type": "stream",
          "name": "stdout",
          "text": [
            "Minha Classe\n",
            "5\n"
          ]
        }
      ]
    },
    {
      "cell_type": "code",
      "source": [
        "def escreve(nome,idade=0):\n",
        "  print(\"Nome:\",nome)\n",
        "  print(\"Idade:\",idade)\n",
        "\n",
        "escreve(\"João\")\n",
        "escreve(\"Felipe\",19)"
      ],
      "metadata": {
        "id": "ikPyEXiwrDmL",
        "colab": {
          "base_uri": "https://localhost:8080/"
        },
        "outputId": "9e70040d-2095-45b6-8351-8106388a95e4"
      },
      "execution_count": null,
      "outputs": [
        {
          "output_type": "stream",
          "name": "stdout",
          "text": [
            "Nome: João\n",
            "Idade: 0\n",
            "Nome: Felipe\n",
            "Idade: 19\n"
          ]
        }
      ]
    },
    {
      "cell_type": "code",
      "source": [
        "def minhafucao(entrada):\n",
        "  saida = entrada\n",
        "  return saida\n",
        "\n",
        "print(minhafucao(\"a\"))\n",
        "print(minhafucao(100))\n",
        "print(minhafucao(True))"
      ],
      "metadata": {
        "id": "0ZA3adWsjPOt"
      },
      "execution_count": null,
      "outputs": []
    },
    {
      "cell_type": "code",
      "source": [
        "#Algoritimo de organização selectionsort\n",
        "listanumeros=[5,3,1,2,4]\n",
        "print(listanumeros)\n",
        "x=0\n",
        "while (x<len(listanumeros)):\n",
        "  indicemenornumero = x\n",
        "  y=x+1\n",
        "  while (y<len(listanumeros)):\n",
        "    if listanumeros[y] < listanumeros[indicemenornumero]:\n",
        "      indicemenornumero = y\n",
        "    y += 1\n",
        "\n",
        "  troca = listanumeros[x]\n",
        "  listanumeros[x] = listanumeros[indicemenornumero]\n",
        "  listanumeros[indicemenornumero] = troca\n",
        "  x+=1\n",
        "\n",
        "print(listanumeros)\n"
      ],
      "metadata": {
        "id": "uPRlbcNjeGHF"
      },
      "execution_count": null,
      "outputs": []
    },
    {
      "cell_type": "code",
      "source": [
        "fruta=(input(\"Informe se é maçã ou morango: \"))\n",
        "qtdkg=float(input(\"Informe a quantidade em kilos: \"))\n",
        "\n",
        "if fruta == \"maçã\" and qtdkg <= 5:\n",
        "  valortotal = qtdkg * 1.80\n",
        "elif fruta == \"morango\" and qtdkg <= 5:\n",
        "  valortotal = qtdkg * 2.50\n",
        "\n",
        "if fruta == \"maçã\" and qtdkg > 5:\n",
        "  valortotal = qtdkg * 1.50\n",
        "elif fruta == \"morango\" and qtdkg > 5:\n",
        "  valortotal = qtdkg * 2.20\n",
        "\n",
        "print(\"Valor a pagar: \",\"R$\",valortotal)\n",
        "\n",
        "if qtdkg >= 8 or valortotal >= 25:\n",
        "  desconto = valortotal * (10/100)\n",
        "  print(\"Você ganhou um desconto de 10%!\")\n",
        "  totalpagar = valortotal - desconto\n",
        "  print(\"Valor a pagar com desconto: \",\"R$\",totalpagar)\n"
      ],
      "metadata": {
        "id": "df-oztiHgKVN"
      },
      "execution_count": null,
      "outputs": []
    },
    {
      "cell_type": "code",
      "source": [
        "litros=float(input(\"Informe quantos lidros irá abastecer: \"))\n",
        "comb=input(\"G-gasolina,A-álcool: \")\n",
        "\n",
        "if comb == \"g\":\n",
        "  valortotal = litros * 3.30\n",
        "else:\n",
        "  valortotal = litros * 2.90\n",
        "\n",
        "if comb == \"g\":\n",
        "  if litros <= 20:\n",
        "    desconto = valortotal * (4/100)\n",
        "  else:\n",
        "    desconto = valortotal * (6/100)\n",
        "else:\n",
        "  if litros <= 20:\n",
        "    desconto = valortotal * (3/100)\n",
        "  else:\n",
        "    desconto = valortotal * (6/100)\n",
        "\n",
        "pagar = valortotal - desconto\n",
        "\n",
        "print(\"Valor a pagar: \",\"R$\",pagar)"
      ],
      "metadata": {
        "id": "GGZ8TEOcQ5t0"
      },
      "execution_count": null,
      "outputs": []
    },
    {
      "cell_type": "code",
      "source": [
        "qtdpares=0\n",
        "for numero in range(100,201,2):\n",
        "  if numero % 2 == 0:\n",
        "    qtdpares += 1\n",
        "  print(numero)\n",
        "\n",
        "print(\"Numeros pares \",qtdpares)\n"
      ],
      "metadata": {
        "id": "guYRs6BzIFg5"
      },
      "execution_count": null,
      "outputs": []
    },
    {
      "cell_type": "code",
      "source": [
        "#Numeros pares com while\n",
        "qtdnumpares=0\n",
        "numero=100\n",
        "while(numero<=200):\n",
        "  print(numero)\n",
        "  resto = numero % 2\n",
        "  if resto == 0:\n",
        "    qtdnumpares += 1\n",
        "  numero = numero + 1\n",
        "\n",
        "print(\"Entre 100 e 200 existem: \",qtdnumpares)\n"
      ],
      "metadata": {
        "id": "2IT90P-cD8mU"
      },
      "execution_count": null,
      "outputs": []
    },
    {
      "cell_type": "code",
      "source": [
        "temperatura=float(input(\"Informe a temperatura: \"))\n",
        "umidade=float((input(\"Informe a umidade: \")))\n",
        "\n",
        "if temperatura > 100:\n",
        "  print(\"Temp:\",temperatura,\"Aulas canceladas!\")\n",
        "elif  temperatura < -25:\n",
        "  print(\"Temp:\",temperatura, \"Umidade:\",umidade, \"Aulas canceladas, mas o mundo deve ter acabado!\")\n",
        "elif temperatura < 0:\n",
        "  print(\"Temp:\",temperatura, \"Umidade:\",umidade, \"Aulas cancelada!\")\n",
        "elif temperatura >= 92 and umidade > 75:\n",
        "  print(\"Temp:\",temperatura, \"Umidade:\",umidade, \"Aulas cancelada!\")\n",
        "elif temperatura > 88 and umidade >= 85:\n",
        "  print(\"Temp:\",temperatura, \"Umidade:\",umidade, \"Aulas cancelada!\")\n",
        "elif temperatura == 75 and umidade <= 65:\n",
        "  print(\"Temp:\",temperatura, \"Umidade:\",umidade, \"Atividades externas!\")\n",
        "else:\n",
        "  print(\"Temp:\",temperatura, \"Umidade:\",umidade, \"Aula Normal!\")\n"
      ],
      "metadata": {
        "id": "_LBrIuKD8ck-"
      },
      "execution_count": null,
      "outputs": []
    },
    {
      "cell_type": "code",
      "source": [
        "listaNotas=[]\n",
        "\n",
        "qtdeNotas=int(input(\"Informe quantas notas vai inserir: \"))\n",
        "x = 0\n",
        "while x < qtdeNotas:\n",
        "  print(\"Informe a nota \",x+1, \":\")\n",
        "  listaNotas.append(float(input(\"\")))\n",
        "  x += 1\n",
        "\n",
        "print(\"Você informou \",len(listaNotas),\" notas \")\n",
        "\n",
        "media = 0\n",
        "for n in listaNotas:\n",
        "  media += n\n",
        "  print(\"Nota \",n)\n",
        "\n",
        "media = media / len(listaNotas)\n",
        "print(\"A média é:\",media)"
      ],
      "metadata": {
        "id": "ANtDmzhv2sVf"
      },
      "execution_count": null,
      "outputs": []
    },
    {
      "cell_type": "code",
      "source": [
        "texto = 'Desenvolvendo em Python'\n",
        "\n",
        "x=0\n",
        "while x < len(texto):\n",
        "  print(texto[x])\n",
        "  x+=1"
      ],
      "metadata": {
        "id": "rHXgIoYLXvBk"
      },
      "execution_count": null,
      "outputs": []
    },
    {
      "cell_type": "code",
      "source": [
        "for c in 'desenvolvendo um programa em Python':\n",
        "  print(c)"
      ],
      "metadata": {
        "id": "bZCK3AhSWiLS"
      },
      "execution_count": null,
      "outputs": []
    },
    {
      "cell_type": "code",
      "source": [
        "x=0\n",
        "\n",
        "while x<10:\n",
        "  print(x)\n",
        "  x += 1\n",
        "  if x==6:\n",
        "    print(\"x é igual a 6\")\n",
        "    break\n",
        "else:\n",
        "  print(\"fim while\")"
      ],
      "metadata": {
        "id": "DquVTp7WUb-i"
      },
      "execution_count": null,
      "outputs": []
    },
    {
      "cell_type": "code",
      "source": [
        "contador=0\n",
        "\n",
        "while(contador<5):\n",
        "  print(contador)\n",
        "  contador = contador + 1"
      ],
      "metadata": {
        "id": "qdmIuOFCS0DY"
      },
      "execution_count": null,
      "outputs": []
    },
    {
      "cell_type": "code",
      "source": [
        "codigoPeca = input(\"Entre com o código da peça: \")\n",
        "estado = input(\"Informe o estado que a peça foi vendida: \")\n",
        "valor = float(input(\"Qual o valor da peça: \"))\n",
        "qtde = float(input(\"Qual a quantidade: \"))\n",
        "\n",
        "valorTotal = qtde * valor\n",
        "\n",
        "if estado == \"sc\":\n",
        "    percentualImposto = 17 / 100  # 17%\n",
        "elif estado == \"rs\":\n",
        "    percentualImposto = 12 / 100  # 12%\n",
        "elif estado == \"sp\":\n",
        "    percentualImposto = 9 / 100  # 9%\n",
        "else:\n",
        "    percentualImposto = 20 / 100  # 20%\n",
        "\n",
        "print(\"Percentual do imposto: \", percentualImposto)\n",
        "\n",
        "valorImposto = valorTotal * (percentualImposto / 100)\n",
        "\n",
        "valorTotal = (valor + (valor * percentualImposto)) * qtde\n",
        "\n",
        "print(\"Valor do imposto \", valorImposto)\n",
        "print(\"Valor total da peça: \", valorTotal)\n",
        "\n",
        "\n",
        "\n"
      ],
      "metadata": {
        "id": "uWQQGDaEHLH_",
        "colab": {
          "base_uri": "https://localhost:8080/"
        },
        "outputId": "40f89d50-7c47-40bf-ffd5-2e688a03cbae"
      },
      "execution_count": null,
      "outputs": [
        {
          "output_type": "stream",
          "name": "stdout",
          "text": [
            "Entre com o código da peça: 1\n",
            "Informe o estado que a peça foi vendida: sc\n",
            "Qual o valor da peça: 100\n",
            "Qual a quantidade: 5\n",
            "Percentual do imposto:  0.17\n",
            "Valor do imposto  0.8500000000000001\n",
            "Valor total da peça:  585.0\n"
          ]
        }
      ]
    },
    {
      "cell_type": "code",
      "source": [
        "aluno = input(\"Nome do aluno: \")\n",
        "disciplina = input(\"Qual a disciplina: \")\n",
        "listaNotas = []\n",
        "\n",
        "# Coleta das notas e conversão para float\n",
        "listaNotas.append(float(input(\"Informe a primeira nota: \")))\n",
        "listaNotas.append(float(input(\"Informe a segunda nota: \")))\n",
        "listaNotas.append(float(input(\"Informe a terceira nota: \")))\n",
        "listaNotas.append(float(input(\"Informe a quarta nota: \")))\n",
        "\n",
        "media = (listaNotas[0] + listaNotas[1] + listaNotas[2] + listaNotas[3]) / 4\n",
        "\n",
        "if media >= 7:\n",
        "    print(\"Aprovado media: \", media)\n",
        "elif media >= 5:\n",
        "    print(\"Em exame media: \", media)\n",
        "else:\n",
        "    print(\"Reprovado media: \", media)\n"
      ],
      "metadata": {
        "id": "jDGP8SYMEbli",
        "colab": {
          "base_uri": "https://localhost:8080/"
        },
        "outputId": "eac428cd-2360-4652-9d64-a3da422df8f4"
      },
      "execution_count": null,
      "outputs": [
        {
          "output_type": "stream",
          "name": "stdout",
          "text": [
            "Nome do aluno: 1\n",
            "Qual a disciplina: 1\n",
            "Informe a primeira nota: 7\n",
            "Informe a segunda nota: 7\n",
            "Informe a terceira nota: 7\n",
            "Informe a quarta nota: 7\n",
            "Aprovado media:  7.0\n"
          ]
        }
      ]
    },
    {
      "cell_type": "code",
      "source": [
        "print(\"Programa para verificar se o aluno tem média para exame\")\n",
        "\n",
        "nome=input(\"Entre com o nome do aluno: \")\n",
        "nota1=float(input(\"entre com a primeira nota: \"))\n",
        "nota2=float(input(\"entre com a segunda nota: \"))\n",
        "\n",
        "media = (nota1 + nota2)/2\n",
        "\n",
        "if media>=7:\n",
        "  print('{0} aprovado com media = {1:4.2f}'.format(nome,media))\n",
        "elif media < 7 and media >= 3:\n",
        "  print('{0} vai para exame final com media = {1:4.2f}'.format(nome,media))\n",
        "else:\n",
        "  print('{0} vai para a prova final co media = {1:4.2f}'.format(nome,media))"
      ],
      "metadata": {
        "id": "YGS5lQo0AHiy"
      },
      "execution_count": null,
      "outputs": []
    },
    {
      "cell_type": "code",
      "source": [
        "print(\"Programa para verificar se o aluno tem média para exame\")\n",
        "\n",
        "nome=input(\"Entre com o nome do aluno: \")\n",
        "nota1=float(input(\"entre com a primeira nota: \"))\n",
        "nota2=float(input(\"entre com a segunda nota: \"))\n",
        "\n",
        "media = (nota1 + nota2)/2\n",
        "\n",
        "if media>=7:\n",
        "  print('{0} aprovado com media = {1:4.2f}'.format(nome,media))\n",
        "else:\n",
        "  print('{0} vai para a prova final co media = {1:4.2f}'.format(nome,media))"
      ],
      "metadata": {
        "id": "QWc-qbL061BY"
      },
      "execution_count": null,
      "outputs": []
    },
    {
      "cell_type": "code",
      "source": [
        "#condição if, else\n",
        "print(\"Validador de portaria\")\n",
        "\n",
        "nome=input(\"Nome da pessoa: \")\n",
        "idade=int(input(\"Idade da pessoa: \"))\n",
        "sexo=input(\"M masculino, F feminino: \")\n",
        "\n",
        "if idade >=16:\n",
        "  print(nome,\",\",\"Liberação realizada, pode entrar!\")\n",
        "  if sexo==\"M\" or \"m\":\n",
        "    print(\"Sexo masculino\")\n",
        "  else:\n",
        "    print(\"Sexo feminino\")\n",
        "\n",
        "else:\n",
        "  print(nome,\",\",\"acesso não liberado.\")\n"
      ],
      "metadata": {
        "id": "0M3FoR7W5CyN",
        "colab": {
          "base_uri": "https://localhost:8080/"
        },
        "outputId": "6f6da50e-858c-421a-a4df-ed20e1bdd8d0"
      },
      "execution_count": null,
      "outputs": [
        {
          "output_type": "stream",
          "name": "stdout",
          "text": [
            "Validador de portaria\n",
            "Nome da pessoa: Mart\n",
            "Idade da pessoa: 29\n",
            "M masculino, F femininom\n",
            "Mart , Liberação realizada, pode entrar!\n",
            "Sexo masculino\n"
          ]
        }
      ]
    },
    {
      "cell_type": "code",
      "source": [
        "#condição if\n",
        "print(\"Validador de portaria\")\n",
        "\n",
        "nome=input(\"Nome da pessoa: \")\n",
        "idade=int(input(\"Idade da pessoa: \"))\n",
        "\n",
        "if idade>=16:\n",
        "  print(nome, \"Liberação realizada, pode entrar!\")\n",
        "\n",
        "if idade<16:\n",
        "  print(nome, \"acesso não liberado.\")"
      ],
      "metadata": {
        "id": "SfzEDFLM12IK",
        "colab": {
          "base_uri": "https://localhost:8080/"
        },
        "outputId": "8ebc0533-91c3-4d32-b4dd-1d7c4bbc3ab2"
      },
      "execution_count": null,
      "outputs": [
        {
          "output_type": "stream",
          "name": "stdout",
          "text": [
            "Validador de portaria\n",
            "Nome da pessoa: mart\n",
            "Idade da pessoa: 14\n",
            "mart acesso não liberado.\n"
          ]
        }
      ]
    },
    {
      "cell_type": "code",
      "source": [
        "import random\n",
        "\n",
        "listaNomes = []\n",
        "\n",
        "listaNomes.append(input(\"Entre com um nome: \"))\n",
        "listaNomes.append(input(\"Entre com um nome: \"))\n",
        "listaNomes.append(input(\"Entre com um nome: \"))\n",
        "listaNomes.append(input(\"Entre com um nome: \"))\n",
        "listaNomes.append(input(\"Entre com um nome: \"))\n",
        "\n",
        "print(listaNomes)\n",
        "\n",
        "vencendor = listaNomes[random.randrange(0,4)]\n",
        "\n",
        "print(\"O vencendor é: \",vencendor)\n",
        "\n"
      ],
      "metadata": {
        "id": "_kz51ibLwzi4",
        "colab": {
          "base_uri": "https://localhost:8080/"
        },
        "outputId": "9e492acc-668b-4b75-8676-753ce7537d12"
      },
      "execution_count": null,
      "outputs": [
        {
          "output_type": "stream",
          "name": "stdout",
          "text": [
            "Entre com um nome: mart\n",
            "Entre com um nome: rafa\n",
            "Entre com um nome: martinelli\n",
            "Entre com um nome: rafa\n",
            "Entre com um nome: fael\n",
            "['mart', 'rafa', 'martinelli', 'rafa', 'fael']\n",
            "O vencendor é:  martinelli\n"
          ]
        }
      ]
    },
    {
      "cell_type": "code",
      "source": [
        "#triãngulo\n",
        "import math\n",
        "L=float(input(\"Informe o valor de L: \"))\n",
        "area=float(input(\"Informe a raiz quadrada de 3: \"))\n",
        "area=math.sqrt(area)\n",
        "elevado = L**2\n",
        "resultado = area * elevado / 4\n",
        "print(\"A area do triãngulo é: \", resultado)"
      ],
      "metadata": {
        "id": "WEhTfVkaJgKO"
      },
      "execution_count": null,
      "outputs": []
    },
    {
      "cell_type": "code",
      "source": [
        "#losãngulo\n",
        "D=float(input(\"Informe o valor de D: \"))\n",
        "d=float(input(\"Informe o valor de d: \"))\n",
        "\n",
        "calculo = (D * d) / 2\n",
        "\n",
        "print(\"A áre do losãngulo é: \", calculo)"
      ],
      "metadata": {
        "id": "QX4-rnPaJJTC"
      },
      "execution_count": null,
      "outputs": []
    },
    {
      "cell_type": "code",
      "source": [
        "#paralelograma\n",
        "b=float(input(\"Informe o valor de b: \"))\n",
        "h=float(input(\"Informe o valor de h: \"))\n",
        "\n",
        "calculo = b * h\n",
        "\n",
        "print(\"A áre do paralelograma é: \", calculo)"
      ],
      "metadata": {
        "id": "w1cCUL7SI9vR"
      },
      "execution_count": null,
      "outputs": []
    },
    {
      "cell_type": "code",
      "source": [
        "#retãngulo\n",
        "b=float(input(\"Informe o valor de b: \"))\n",
        "h=float(input(\"Informe o valor de h: \"))\n",
        "\n",
        "calculo = b * h\n",
        "\n",
        "print(\"A áre do retãngulo é: \", calculo)"
      ],
      "metadata": {
        "id": "6zJZr5hiHqcQ"
      },
      "execution_count": null,
      "outputs": []
    },
    {
      "cell_type": "code",
      "source": [
        "#triãngulo\n",
        "b=float(input(\"Informe o valor de b: \"))\n",
        "h=float(input(\"Informe o valor de h: \"))\n",
        "\n",
        "calculo = (b * h) / 2\n",
        "\n",
        "print(\"A áre do triãngulo é: \", calculo)"
      ],
      "metadata": {
        "id": "PulB8lB1Idxk"
      },
      "execution_count": null,
      "outputs": []
    },
    {
      "cell_type": "code",
      "source": [
        "listaNomes=[]\n",
        "listaNomes.append(input(\"Entre com um nome: \"))\n",
        "listaNomes.append(input(\"Entre com um nome: \"))\n",
        "listaNomes.append(input(\"Entre com um nome: \"))\n",
        "\n",
        "print(listaNomes)\n",
        "print(listaNomes[0])"
      ],
      "metadata": {
        "id": "tZUv6LSFOQzP"
      },
      "execution_count": null,
      "outputs": []
    },
    {
      "cell_type": "code",
      "source": [
        "#calcular áreas geometricas\n",
        "\n",
        "#quadrado\n",
        "a=float(input(\"Informe a altura do quadrado: \"))\n",
        "b = a**2\n",
        "\n",
        "print(b)\n",
        "\n",
        "#trapézio\n",
        "c=float(input(\"Informe o valor de B: \"))\n",
        "d=float(input(\"Informe o valor de b: \"))\n",
        "e=float(input(\"Informe o valor de h: \"))\n",
        "\n",
        "calculo = ((c+d) * h) / 2\n",
        "\n",
        "print(\"A áre do trapézio é: \", calculo)\n",
        "\n",
        "#circulo\n",
        "import math\n",
        "r=float(input(\"Informe ao raio do circulo: \"))\n",
        "area=math.pi * (r**2)\n",
        "\n",
        "print(\"A area do circulo é: \", area)"
      ],
      "metadata": {
        "id": "73hB07wD2lTV"
      },
      "execution_count": null,
      "outputs": []
    },
    {
      "cell_type": "code",
      "source": [
        "codigoPeca=input(\"Digite o codigo da peça: \")\n",
        "valorPeca = float(input(\"Digite o valor da peça: \"))\n",
        "quantPeca = float(input(\"Digite quntida de peças: \"))\n",
        "valor = quantPeca * valorPeca\n",
        "\n",
        "print(\"Código da peça é: \",codigoPeca,\",\", \"Valor da peça: \", valorPeca,\",\", \"Valor total: \", valor)\n",
        "\n",
        "\n",
        "\n"
      ],
      "metadata": {
        "id": "YtUrIOPDzVZO"
      },
      "execution_count": null,
      "outputs": []
    },
    {
      "cell_type": "code",
      "source": [
        "aluno=input(\"Digite o nome do Aluno: \")\n",
        "disciplina=input(\"Digite o nome da diciplina: \")\n",
        "listaNotas = []\n",
        "listaNotas.append(input(\"Insira primeira nota: \"))\n",
        "listaNotas.append(input(\"Insira segunda nota: \"))\n",
        "listaNotas.append(input(\"Insira terceira nota: \"))\n",
        "listaNotas.append(input(\"Insira quarta nota: \"))\n",
        "\n",
        "n1 = float(listaNotas[0])\n",
        "n2 = float(listaNotas[1])\n",
        "n3 = float(listaNotas[2])\n",
        "n4 = float(listaNotas[3])\n",
        "\n",
        "resultado = (n1 + n2 + n3 + n4) / 4\n",
        "\n",
        "print(\"Olá\", aluno,\",\",\"Na disciplina: \",disciplina,\",\",\"A sua média: \", resultado)\n",
        "print(\"As suas notas foram: \", listaNotas)"
      ],
      "metadata": {
        "id": "DtiWzJRLpMi5",
        "colab": {
          "base_uri": "https://localhost:8080/"
        },
        "outputId": "1132162b-ac70-4237-eb1e-04be20069698"
      },
      "execution_count": null,
      "outputs": [
        {
          "output_type": "stream",
          "name": "stdout",
          "text": [
            "Digite o nome do Aluno: mART\n",
            "Digite o nome da diciplina: dEV\n",
            "Insira primeira nota: 8\n",
            "Insira segunda nota: 7\n",
            "Insira terceira nota: 8\n",
            "Insira quarta nota: 10\n",
            "Olá mART , Na disciplina:  dEV , A sua média:  8.25\n",
            "As suas notas foram:  ['8', '7', '8', '10']\n"
          ]
        }
      ]
    },
    {
      "cell_type": "code",
      "source": [
        "import math\n",
        "Num1 = float(input(\"Informe um número: \"))\n",
        "Num2 = float(input(\"Informe um número para calcular a raiz: \"))\n",
        "\n",
        "print(Num1)\n",
        "print(Num2)\n",
        "\n",
        "Num2=math.sqrt(Num2)\n",
        "\n",
        "print(Num1==Num2)"
      ],
      "metadata": {
        "id": "-eojEITBbzX8"
      },
      "execution_count": null,
      "outputs": []
    },
    {
      "cell_type": "code",
      "source": [
        "import math\n",
        "a=input(\"Raiz quadrada de : \")\n",
        "b=input(\"Raiz quadrada de : \")\n",
        "c=input(\"Raiz quadrada de : \")\n",
        "d=input(\"Raiz quadrada de : \")\n",
        "e=input(\"Raiz quadrada de : \")\n",
        "f=float(a)\n",
        "g=float(b)\n",
        "h=float(c)\n",
        "i=float(d)\n",
        "j=float(e)\n",
        "f=math.sqrt(f)\n",
        "g=math.sqrt(g)\n",
        "h=math.sqrt(h)\n",
        "i=math.sqrt(i)\n",
        "j=math.sqrt(j)\n",
        "print(\"Raiz quadrada de \",a,b,c,d,e)\n",
        "print(\"é \",f,g,h,i,j)"
      ],
      "metadata": {
        "id": "W8P721g6X9Cy"
      },
      "execution_count": null,
      "outputs": []
    },
    {
      "cell_type": "code",
      "source": [
        "#Calculadora de estoque\n",
        "quantMax=input (\"Qual a quantidade máxima suportada pelo estoque? \")\n",
        "quantMin=input (\"Qual a quantidade mínima suportada pelo estoque? \")\n",
        "estoque = (float(quantMax) + float(quantMin)) / 2\n",
        "\n",
        "print(\"Estoque médio é: \", estoque)"
      ],
      "metadata": {
        "id": "Oaf2NdtSTFQ9",
        "colab": {
          "base_uri": "https://localhost:8080/"
        },
        "outputId": "36ba1d26-ab4a-40be-84ef-712de4d31e83"
      },
      "execution_count": null,
      "outputs": [
        {
          "output_type": "stream",
          "name": "stdout",
          "text": [
            "Qual a quantidade máxima suportada pelo estoque? 150\n",
            "Qual a quantidade mínima suportada pelo estoque? 15\n",
            "Estoque médio é:  82.5\n"
          ]
        }
      ]
    },
    {
      "cell_type": "code",
      "execution_count": null,
      "metadata": {
        "id": "roUpRp5fEnlk"
      },
      "outputs": [],
      "source": [
        "\n",
        "n1=input (\"Nota 1: \")\n",
        "n2=input (\"Nota 2: \")\n",
        "n3=input (\"Nota 3: \")\n",
        "n4=input (\"Nota 4: \")\n",
        "resultado = (float(n1) + float(n2) + float(n3) + float(n4)) / 4\n",
        "print(\"A média é \",resultado)\n",
        "\n",
        "\n"
      ]
    },
    {
      "cell_type": "code",
      "source": [
        "#podemos mudar\n",
        "l=['saulo','joao',2,True]\n",
        "print(l)\n",
        "\n",
        "#extender a lista\n",
        "l.extend(['parizotto'])\n",
        "print(l)\n",
        "\n",
        "#podemos mudar\n",
        "l=['saulo','joao',2,True]\n",
        "print(l)\n",
        "\n",
        "#incrementar itens na lista\n",
        "\n",
        "print(l.append(input(\"insira um nome: \"))l)\n",
        "\n",
        "print(l[0])\n",
        "print(l[4])\n",
        "\n",
        "print(\"tamanho da lista: \",len(l))\n",
        "\n"
      ],
      "metadata": {
        "id": "8qOqrDthO2kv"
      },
      "execution_count": null,
      "outputs": []
    },
    {
      "cell_type": "code",
      "source": [
        "#não podemos mudar\n",
        "t=(1,2,3,True)\n",
        "print(t)\n",
        "t = t + (30,32)\n",
        "print(t)"
      ],
      "metadata": {
        "id": "jCO-WpjrShIn",
        "colab": {
          "base_uri": "https://localhost:8080/"
        },
        "outputId": "15f59f41-89d3-4731-e510-e3d25ef8038b"
      },
      "execution_count": null,
      "outputs": [
        {
          "output_type": "stream",
          "name": "stdout",
          "text": [
            "(1, 2, 3, True)\n",
            "(1, 2, 3, True, 30, 32)\n"
          ]
        }
      ]
    },
    {
      "cell_type": "code",
      "source": [
        "import math\n",
        "n=input(\"Raiz quadrada de : \")\n",
        "f=float(n)\n",
        "f=math.sqrt(f)\n",
        "print(\"Raiz quadrada de \",n, \"é \",f)"
      ],
      "metadata": {
        "id": "w7g-z_LfZcMY",
        "colab": {
          "base_uri": "https://localhost:8080/"
        },
        "outputId": "e826d42d-d3c2-49da-bd37-f8d9d6ca5bb9"
      },
      "execution_count": null,
      "outputs": [
        {
          "output_type": "stream",
          "name": "stdout",
          "text": [
            "Raiz quadrada de : 7\n",
            "Raiz quadrada de  7 é  2.6457513110645907\n"
          ]
        }
      ]
    },
    {
      "cell_type": "code",
      "source": [
        "import math\n",
        "print(math.sqrt(9))"
      ],
      "metadata": {
        "id": "fsw3uE6BQveS",
        "colab": {
          "base_uri": "https://localhost:8080/"
        },
        "outputId": "6987012c-7df4-4c46-a8a4-aececf8ad97f"
      },
      "execution_count": null,
      "outputs": [
        {
          "output_type": "stream",
          "name": "stdout",
          "text": [
            "3.0\n"
          ]
        }
      ]
    },
    {
      "cell_type": "code",
      "source": [
        "print(7+2)\n",
        "print(62-1)\n",
        "print(3*9)\n",
        "print(16/4)\n",
        "print(7//2)\n",
        "print(7%2)\n",
        "print(2**3)\n"
      ],
      "metadata": {
        "id": "wqb9AsjfMTWw",
        "colab": {
          "base_uri": "https://localhost:8080/"
        },
        "outputId": "ec7d4a99-f0bd-4488-ca3f-3273d70884a4"
      },
      "execution_count": null,
      "outputs": [
        {
          "output_type": "stream",
          "name": "stdout",
          "text": [
            "9\n",
            "61\n",
            "27\n",
            "4.0\n",
            "3\n",
            "1\n",
            "8\n"
          ]
        }
      ]
    },
    {
      "cell_type": "code",
      "source": [
        "# Criar uma lista com elementos iniciais\n",
        "minha_lista = ['saulo', 'joao', 2, True]\n",
        "\n",
        "# Imprimir a lista inicial\n",
        "print(minha_lista)\n",
        "\n",
        "# Adicionar 'martinelli' à lista usando o método append\n",
        "minha_lista.append('martinelli')\n",
        "\n",
        "# Imprimir a lista atualizada\n",
        "print(minha_lista)\n"
      ],
      "metadata": {
        "id": "DlXVObFAopah",
        "colab": {
          "base_uri": "https://localhost:8080/"
        },
        "outputId": "c6302c7f-c625-403b-e26e-db325f2c2d93"
      },
      "execution_count": null,
      "outputs": [
        {
          "output_type": "stream",
          "name": "stdout",
          "text": [
            "['saulo', 'joao', 2, True]\n",
            "['saulo', 'joao', 2, True, 'martinelli']\n"
          ]
        }
      ]
    },
    {
      "cell_type": "code",
      "source": [
        "#listas\n",
        "a=[1, 2, 3, 4]\n",
        "\n",
        "print(a)\n",
        "\n",
        "b=(1, 2, 3, 4)\n",
        "\n",
        "print(b)\n"
      ],
      "metadata": {
        "id": "NABpu8lwnbsV",
        "colab": {
          "base_uri": "https://localhost:8080/"
        },
        "outputId": "6157b566-7615-437b-844d-04f80ff7183b"
      },
      "execution_count": null,
      "outputs": [
        {
          "output_type": "stream",
          "name": "stdout",
          "text": [
            "[1, 2, 3, 4]\n",
            "(1, 2, 3, 4)\n"
          ]
        }
      ]
    }
  ]
}